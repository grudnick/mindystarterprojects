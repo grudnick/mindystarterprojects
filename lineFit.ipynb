{
 "cells": [
  {
   "cell_type": "code",
   "execution_count": 1,
   "metadata": {
    "collapsed": false
   },
   "outputs": [
    {
     "name": "stderr",
     "output_type": "stream",
     "text": [
      "/Users/TheLuggage/anaconda2/envs/astroconda/lib/python2.7/site-packages/matplotlib/font_manager.py:273: UserWarning: Matplotlib is building the font cache using fc-list. This may take a moment.\n",
      "  warnings.warn('Matplotlib is building the font cache using fc-list. This may take a moment.')\n"
     ]
    },
    {
     "name": "stdout",
     "output_type": "stream",
     "text": [
      "('slope is', 5.864784559099431)\n",
      "('intercept is', 37.154171097561154)\n",
      "('Error in slope is', 0.038697920835917173)\n",
      "('Error in intercept is', 86.707317073170643)\n"
     ]
    },
    {
     "data": {
      "image/png": "[encoded data removed]",
      "text/plain": [
       "<matplotlib.figure.Figure at 0x109c25d90>"
      ]
     },
     "metadata": {},
     "output_type": "display_data"
    },
    {
     "name": "stdout",
     "output_type": "stream",
     "text": [
      "()\n",
      "('slope', 5.8647845590994372)\n",
      "('intercept', 37.154171097560976)\n",
      "('CI for slope is', 5.9034824799353478, 5.8260866382635141)\n",
      "('CI for intercept is', 123.8614881707318, -49.553145975609489)\n"
     ]
    }
   ],
   "source": [
    "# Program to fit a linear least squares regression line to data,\n",
    "# calculate errors in fit parameters, and calculate a 68% confidence interval\n",
    "\n",
    "import matplotlib.pyplot as plt\n",
    "import numpy as np\n",
    "from numpy import array\n",
    "import scipy as scipy\n",
    "from scipy import stats\n",
    "\n",
    "# Read in data\n",
    "data = open('/Users/TheLuggage/anaconda2/data_mindy.v3.dat', 'r') \n",
    "lines = data.readlines()[1:] # start reading at line 2\n",
    "\n",
    "data.close() \n",
    "\n",
    "# Create array\n",
    "x = []\n",
    "y = []\n",
    "dy = []\n",
    "\n",
    "# Append data to the array\n",
    "for line in lines:\n",
    "    p = line.split()\n",
    "    x.append(float(p[0]))\n",
    "    y.append(float(p[1]))\n",
    "    dy.append(float(p[2])) \n",
    "        \n",
    "# Create a vector\n",
    "xVec = np.array(x)\n",
    "yVec = np.array(y)\n",
    "dyVec = np.array(dy)\n",
    "# print(\"yVec is\", yVec)\n",
    "# print(dyVec)\n",
    "\n",
    "# Plot raw data with error bars\n",
    "plt.scatter(xVec, yVec)\n",
    "plt.errorbar(xVec,yVec,yerr=dyVec, linestyle=\"None\")\n",
    "# plt.show()\n",
    "\n",
    "# Create arrays used in weighted least squares slope, intercept,\n",
    "# and errors in the slope and intercept\n",
    "\n",
    "# The following computes the various sums needed to calculate slope,\n",
    "# intercept, and errors\n",
    "\n",
    "xe = []\n",
    "xe = xVec/(dyVec)**2.\n",
    "xesum = np.sum(xe)\n",
    "\n",
    "ye = []\n",
    "ye = yVec/(dyVec)**2.\n",
    "yesum = np.sum(ye)\n",
    "\n",
    "xye = []\n",
    "xye = (xVec * yVec)/(dyVec)**2.\n",
    "xyesum = np.sum(xye)\n",
    "\n",
    "invesq = []\n",
    "invesq = 1./(dyVec)**2.\n",
    "invesqsum = np.sum(invesq)\n",
    "\n",
    "xsqe = []\n",
    "xsqe = ((xVec)**2.)/(dyVec)**2.\n",
    "xsqesum = np.sum(xsqe)\n",
    "\n",
    "inve = []\n",
    "inve = 1/dyVec\n",
    "invesum = np.sum(inve)\n",
    "\n",
    "# Calculate slope\n",
    "a = ((xesum * yesum) - (xyesum * invesqsum)) / (xesum**2. - (xsqesum * invesqsum))\n",
    "print(\"slope is\", a)\n",
    "\n",
    "# Calculate intercept\n",
    "b = (xyesum - (a * xsqesum)) / xesum\n",
    "print(\"intercept is\", b)\n",
    "\n",
    "# Calculate error in slope\n",
    "aErr = (invesqsum / ((xsqesum * invesum) - xesum**2.))**0.5\n",
    "print(\"Error in slope is\", aErr)\n",
    "\n",
    "# Calculate error in intercept\n",
    "bErr = (xsqesum / ((xsqesum * invesqsum) - xesum**2.))\n",
    "print(\"Error in intercept is\", bErr)\n",
    "\n",
    "y = a*xVec + b\n",
    "plt.plot(y)\n",
    "plt.show()\n",
    "\n",
    "# Compare calculated parameters to parameters computed by python function\n",
    "slope, intercept, r_value, p_value, std_err = scipy.stats.linregress(xVec, yVec)\n",
    "print()\n",
    "print(\"slope\", slope)\n",
    "print(\"intercept\", intercept)\n",
    "\n",
    "# Compute margin of error\n",
    "# t*stdev\n",
    "# t score for 68% CI is 1\n",
    "\n",
    "t = 1.\n",
    "aMOE = t*aErr\n",
    "bMOE = t*bErr\n",
    "\t\n",
    "aCIhigh = a + aMOE\n",
    "aCIlow = a - aMOE\n",
    "\n",
    "bCIhigh = b + bMOE\n",
    "bCIlow = b - bMOE\n",
    "\n",
    "print(\"CI for slope is\", aCIhigh, aCIlow)\n",
    "print(\"CI for intercept is\", bCIhigh, bCIlow)\n"
   ]
  },
  {
   "cell_type": "code",
   "execution_count": null,
   "metadata": {
    "collapsed": true
   },
   "outputs": [],
   "source": []
  }
 ],
 "metadata": {
  "anaconda-cloud": {},
  "kernelspec": {
   "display_name": "Python [astroconda]",
   "language": "python",
   "name": "Python [astroconda]"
  },
  "language_info": {
   "codemirror_mode": {
    "name": "ipython",
    "version": 2
   },
   "file_extension": ".py",
   "mimetype": "text/x-python",
   "name": "python",
   "nbconvert_exporter": "python",
   "pygments_lexer": "ipython2",
   "version": "2.7.12"
  }
 },
 "nbformat": 4,
 "nbformat_minor": 0
}
