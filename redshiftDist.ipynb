{
 "cells": [
  {
   "cell_type": "code",
   "execution_count": null,
   "metadata": {
    "collapsed": true
   },
   "outputs": [],
   "source": [
    "# Plot redshift distribution\n",
    "\n",
    "from astropy.io import fits\n",
    "from astropy.table import Table\n",
    "import numpy as np\n",
    "import matplotlib.pylab as plt \n",
    "import matplotlib.lines as mlines\n",
    "# from matplotlib.legend import Legend\n",
    "\n",
    "# Read in data\n",
    "hdulist = fits.open('/home/mtownsend/anaconda3/survey-dr3-DR12Q.fits') # survey\n",
    "hdulist2 = fits.open('/home/mtownsend/anaconda3/specObj-dr13.fits') # sdss\n",
    "tbdata = hdulist[1].data\n",
    "tbdata2 = hdulist2[1].data\n",
    "\n",
    "# Put data in arrays\n",
    "# Object ID from survey file; value -1 for non-matches\n",
    "objid = []\n",
    "objid = tbdata.field('OBJID') \n",
    "\n",
    "# Number of observations of source from sdss file\n",
    "obs = []\n",
    "obsmatch = []\n",
    "obs = tbdata2.field('NSPECOBS') \n",
    "obsmatch = obs[np.where(objid > -1)]\n",
    "\n",
    "# Redshift values from sdss file\n",
    "z = []\n",
    "zmatch = []\n",
    "z = tbdata2.field('Z') \n",
    "zmatch = z[np.where(objid > -1)]\n",
    "# z = np.random.normal(0., 0.1, 1000)\n",
    "\n",
    "# Match redshift values with numbers of observations \n",
    "z1 = []\n",
    "z2 = []\n",
    "z3 = []\n",
    "\n",
    "z1 = zmatch[np.where(obsmatch == 1)]\n",
    "z2 = zmatch[np.where(obsmatch == 2)]\n",
    "z3 = zmatch[np.where(obsmatch == 3)]\n",
    "\n",
    "# Plot histogram\n",
    "plt.hist(z2)\n",
    "\n",
    "plt.grid(True)\n",
    "plt.title('Redshift Distribution (2 exposure)')\n",
    "plt.xlabel(r'$redshift$')\n",
    "plt.ylabel(r'$counts$')\n",
    "\n",
    "plt.show()\n"
   ]
  }
 ],
 "metadata": {
  "anaconda-cloud": {},
  "kernelspec": {
   "display_name": "Python [astroconda]",
   "language": "python",
   "name": "Python [astroconda]"
  },
  "language_info": {
   "codemirror_mode": {
    "name": "ipython",
    "version": 2
   },
   "file_extension": ".py",
   "mimetype": "text/x-python",
   "name": "python",
   "nbconvert_exporter": "python",
   "pygments_lexer": "ipython2",
   "version": "2.7.12"
  }
 },
 "nbformat": 4,
 "nbformat_minor": 0
}
