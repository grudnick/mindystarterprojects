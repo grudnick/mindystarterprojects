# Plot redshift distribution

from astropy.io import fits
from astropy.table import Table
import numpy as np
import matplotlib.pylab as plt 
import matplotlib.lines as mlines
# from matplotlib.legend import Legend

# Read in data
hdulist = fits.open('/home/mtownsend/anaconda3/survey-dr3-DR12Q.fits') # survey
hdulist2 = fits.open('/home/mtownsend/anaconda3/specObj-dr13.fits') # sdss
tbdata = hdulist[1].data
tbdata2 = hdulist2[1].data

# Put data in arrays
# Object ID from survey file; value -1 for non-matches
objid = []
objid = tbdata.field('OBJID') 

# Number of observations of source from legacy file
# obs = []
# obsmatch = []
# obs = tbdata.field('DECAM_NOBS') 
# obsmatch = obs[np.where(objid > -1)]
# 
# Put number of observations per filter into arrays that match the filter
# uobs = []
# gobs = []
# robs = []
# iobs = []
# zobs = []
# yobs = []
# 
# b = np.array(obsmatch)
# uobs = b[:,0]
# gobs = b[:,1]
# robs = b[:,2]
# iobs = b[:,3]
# zobs = b[:,4]
# yobs = b[:,5]

# Redshift values from sdss file
z = []
zmatch = []
z = tbdata2.field('Z') 
zmatch = z[np.where(objid > -1)]
# z = np.random.normal(0., 0.1, 1000)

# Match redshift values with number of observations
# Matched to filter 
# zg = []
# zr = []
# zz = []
# 
# zg = zmatch[np.where(gobs != 0)]
# zr = zmatch[np.where(robs != 0)]
# zz = zmatch[np.where(zobs != 0)]

# Put flux data in an array from legacy file
# Flux has ugrizY, so needs to be divided into 6 arrays
# flux =[]
# fluxmatch = []
# flux = tbdata.field('DECAM_FLUX')
# fluxmatch = flux[np.where(objid > -1)]
# 
# Divide flux arrays into 6 arrays
# uflux = []
# gflux = []
# rflux = []
# iflux = []
# zflux = []
# yflux = []
# 
# a = np.array(fluxmatch)
# uflux = a[:,0]
# gflux = a[:,1]
# rflux = a[:,2]
# iflux = a[:,3]
# zflux = a[:,4]
# yflux = a[:,5]
# 
# Put inverse flux variance data in an array from legacy file
# 
# flux_ivar =[]
# flux_ivar_match = []
# flux_ivar = tbdata.field('DECAM_FLUX_IVAR')
# flux_ivar_match = flux[np.where(objid > -1)]
# 
# Divide flux arrays into 6 arrays
# uflux_ivar = []
# gflux_ivar = []
# rflux_ivar = []
# iflux_ivar = []
# zflux_ivar = []
# yflux_ivar = []
# 
# c = np.array(flux_ivar_match)
# uflux_ivar = c[:,0]
# gflux_ivar = c[:,1]
# rflux_ivar = c[:,2]
# iflux_ivar = c[:,3]
# zflux_ivar = c[:,4]
# yflux_ivar = c[:,5]

# Plot histogram
plt.hist(z, bins = 50, color = 'blue')

plt.grid(True)
plt.title('Redshift Distribution')
plt.xlabel(r'$redshift$')
plt.ylabel(r'$counts$')

plt.show()
