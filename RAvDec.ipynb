{
 "cells": [
  {
   "cell_type": "code",
   "execution_count": null,
   "metadata": {
    "collapsed": true
   },
   "outputs": [],
   "source": [
    "# In which I try to plot RA vs. Dec. It could have gone better.\n",
    "\n",
    "from astropy.io import fits\n",
    "import numpy as np\n",
    "import matplotlib.pylab as plt \n",
    "import matplotlib.lines as mlines\n",
    "from matplotlib.legend import Legend\n",
    "\n",
    "# Read in data\n",
    "hdulist = fits.open('/Users/TheLuggage/anaconda2/survey-dr3-DR12Q.fits')\n",
    "tbdata = hdulist[1].data\n",
    "\n",
    "# Assign OBJID, RA, and Dec to variables\n",
    "objid = []\n",
    "objid = tbdata.field('OBJID')\n",
    "ra = []\n",
    "ramatch = []\n",
    "ra = tbdata.field('RA')\n",
    "ramatch = ra[np.where(objid > -1)]\n",
    "# print('ra is', ramatch)\n",
    "print('length ra is', len(ramatch))\n",
    "dec = []\n",
    "dedmatch = []\n",
    "dec = tbdata.field('DEC')\n",
    "decmatch = dec[np.where(objid > -1)]\n",
    "# print('dec is', dec)\n",
    "print('length dec is', len(decmatch))\n",
    "\n",
    "# In which I attempt to write to a file\n",
    "# ra_dec = open('/Users/TheLuggage/anaconda2/ra_dec.txt', 'w')\n",
    "# ra_dec.write(ra)\n",
    "# ra_dec.close()\n",
    "\n",
    "# plot data\n",
    "# plt.scatter(ramatch, decmatch)\n",
    "# plt.scatter(ra[1], dec[1])\n",
    "# plt.grid(True)\n",
    "# plt.title('RA vs Dec')\n",
    "# plt.xlabel(r'$RA$')\n",
    "# plt.ylabel(r'$Dec$')\n",
    "# plt.show()  "
   ]
  }
 ],
 "metadata": {
  "anaconda-cloud": {},
  "kernelspec": {
   "display_name": "Python [astroconda]",
   "language": "python",
   "name": "Python [astroconda]"
  },
  "language_info": {
   "codemirror_mode": {
    "name": "ipython",
    "version": 2
   },
   "file_extension": ".py",
   "mimetype": "text/x-python",
   "name": "python",
   "nbconvert_exporter": "python",
   "pygments_lexer": "ipython2",
   "version": "2.7.12"
  }
 },
 "nbformat": 4,
 "nbformat_minor": 0
}
