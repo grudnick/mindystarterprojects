# Plot half-light radius vs. redshift

from astropy.io import fits
from astropy.table import Table
import numpy as np
import matplotlib.pylab as plt 
import matplotlib.lines as mlines

# Read in data
hdulist = fits.open('/home/mtownsend/anaconda3/survey-dr3-DR12Q.fits') # survey
hdulist2 = fits.open('/home/mtownsend/anaconda3/specObj-dr13.fits') # sdss
tbdata = hdulist[1].data
tbdata2 = hdulist2[1].data

# Put data in arrays
# Object ID from survey file; value -1 for non-matches
objid = []
objid = tbdata.field('OBJID') 

# Model from survey file
model =[]
model_match = []
model = tbdata.field('TYPE')
model_match = model[np.where(objid > -1)]
# print(model_match[np.where(model_match == "DEV")])

# Redshift values from sdss file; matched to galaxy models
z = []
zmatch =[]
zmatch_EXP = []
zmatch_DEV = []
z = tbdata2.field('Z') 
zmatch = z[np.where(objid > -1)]

# Redshifts that match legacy data, matched with galaxy model
zmatch_EXP = zmatch[np.where(model_match == "EXP")]
zmatch_DEV = zmatch[np.where(model_match == "DEV")]


# Angular radius from survey file
angsize_EXP = []
angize_DEV = []

angsize_match = []

angsize_match_EXP = []
angsize_match_DEV = []

angsize_EXP = tbdata.field('SHAPEEXP_R')
angsize_DEV = tbdata.field('SHAPEDEV_R')

angsize_match_EXP = angsize_EXP[np.where(objid > -1)]
angsize_match_DEV = angsize_DEV[np.where(objid > -1)]

# Effective radius that match legacy data, matched with galaxy model
angsize_match_EXP = angsize_match_EXP[np.where(model_match == "EXP")]
angsize_match_DEV = angsize_match_DEV[np.where(model_match == "DEV")]


# Plot effective radius vs. redshift
# plt.scatter(angsize_match_EXP, zmatch_EXP)
plt.scatter(angsize_match_DEV, zmatch_DEV)
plt.grid(True)
# plt.xlim(0,0.1)
plt.title('Angular Size vs Redshift (DEV)')
plt.xlabel(r'$Angular Size (arcsec)$')
plt.ylabel(r'$Redshift$')
plt.show()  