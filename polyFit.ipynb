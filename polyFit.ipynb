{
 "cells": [
  {
   "cell_type": "code",
   "execution_count": 1,
   "metadata": {
    "collapsed": false
   },
   "outputs": [
    {
     "name": "stderr",
     "output_type": "stream",
     "text": [
      "/Users/TheLuggage/anaconda2/envs/astroconda/lib/python2.7/site-packages/matplotlib/font_manager.py:273: UserWarning: Matplotlib is building the font cache using fc-list. This may take a moment.\n",
      "  warnings.warn('Matplotlib is building the font cache using fc-list. This may take a moment.')\n"
     ]
    },
    {
     "name": "stdout",
     "output_type": "stream",
     "text": [
      "('a1 is', 2.555342647652717)\n",
      "('a2 is', 4.202583931080715)\n",
      "('a3 is', 2.999031232640903)\n",
      "('y is', array([ 11790.,   2305.,   6542.,   8017.,  20510.,    569.,   4042.,\n",
      "        14990.,  26329.,  25770.,  12945.,  18105.,  20017.,    842.,\n",
      "        23594.,   2305.,  16734.,   9305.,   1290.,    654.]))\n"
     ]
    },
    {
     "data": {
      "image/png": "[encoded data removed]",
      "text/plain": [
       "<matplotlib.figure.Figure at 0x10bed5b10>"
      ]
     },
     "metadata": {},
     "output_type": "display_data"
    }
   ],
   "source": [
    "# Program to fit a quadratic function to data\n",
    "\n",
    "import matplotlib.pyplot as plt\n",
    "import numpy as np\n",
    "from numpy import array\n",
    "import scipy as scipy\n",
    "from scipy import stats\n",
    "\n",
    "# Read in data\n",
    "data = open('/Users/TheLuggage/anaconda2/polydata.dat', 'r') \n",
    "lines = data.readlines()[1:] # start reading at line 2\n",
    "\n",
    "data.close() \n",
    "\n",
    "# Create array\n",
    "x = []\n",
    "y = []\n",
    "dy = []\n",
    "\n",
    "# Append data to the array\n",
    "for line in lines:\n",
    "    p = line.split()\n",
    "    x.append(float(p[0]))\n",
    "    y.append(float(p[1]))\n",
    "    dy.append(float(p[2])) \n",
    "        \n",
    "# Create a vector\n",
    "xVec = np.array(x)\n",
    "yVec = np.array(y)\n",
    "dyVec = np.array(dy)\n",
    "# print(\"yVec is\", yVec)\n",
    "# print(dyVec)\n",
    "\n",
    "# The following computes the various sums needed to the quadratic coefficients\n",
    "\n",
    "a1a = []\n",
    "a1a = yVec/(dyVec**2.)\n",
    "a1asum = a2bsum = a3csum = np.sum(a1a)\n",
    "\n",
    "a1b = []\n",
    "a1b = xVec/(dyVec**2.)\n",
    "a1bsum = a2dsum = a3bsum = a3dsum = a4bsum = a4dsum = np.sum(a1b)\n",
    "\n",
    "a1c = []\n",
    "a1c = (xVec**2.)/(dyVec**2.)\n",
    "a1csum = a1esum = a2csum = a2gsum = a3esum = a3gsum = a4csum = a4esum \\\n",
    "\t= a4gsum = np.sum(a1c)\n",
    "\n",
    "a1d = []\n",
    "a1d = yVec * (xVec/(dyVec**2.))\n",
    "a1dsum = a2esum = a3fsum = np.sum(a1d)\n",
    "\n",
    "a1f = []\n",
    "a1f = (xVec**3.)/(dyVec**2.)\n",
    "a1fsum = a1hsum = a2fsum = a3hsum = a4fsum = a4hsum = np.sum(a1f)\n",
    "\n",
    "a1g = []\n",
    "a1g = yVec * ((xVec**2.)/(dyVec**2.))\n",
    "a1gsum = a2hsum = a3isum = np.sum(a1g)\n",
    "\n",
    "a1i = []\n",
    "a1i = (xVec**4.)/(dyVec**2.)\n",
    "a1isum = a2isum = a4isum = np.sum(a1i)\n",
    "\n",
    "a2a = []\n",
    "a2a = 1/(dyVec**2.)\n",
    "a2asum = a3asum = a4asum = np.sum(a2a)\n",
    "\n",
    "# Make arrays for each coefficient\n",
    "\n",
    "a1array = np.array([[a1asum, a1bsum, a1csum],[a1dsum, a1esum, a1fsum],[a1gsum, a1hsum, a1isum]])\n",
    "a2array = np.array([[a2asum, a2bsum, a2csum],[a2dsum, a2esum, a2fsum],[a2gsum, a2hsum, a2isum]])\n",
    "a3array = np.array([[a3asum, a3bsum, a3csum],[a3dsum, a3esum, a3fsum],[a3gsum, a3hsum, a3isum]])\n",
    "a4array = np.array([[a4asum, a4bsum, a4csum],[a4dsum, a4esum, a4fsum],[a4gsum, a4hsum, a4isum]])\n",
    "\n",
    "# Calculate the determinants using python function\n",
    "\n",
    "a1det = scipy.linalg.det(a1array)\n",
    "a2det = scipy.linalg.det(a2array)\n",
    "a3det = scipy.linalg.det(a3array)\n",
    "a4det = scipy.linalg.det(a4array)\n",
    "\n",
    "# Calculate coefficients\n",
    "\n",
    "a1 = a1det/a4det\n",
    "print(\"a1 is\", a1)\n",
    "a2 = a2det/a4det\n",
    "print(\"a2 is\", a2)\n",
    "a3 = a3det/a4det\n",
    "print(\"a3 is\", a3)\n",
    "\n",
    "# Plot raw data with error bars\n",
    "plt.scatter(xVec, yVec)\n",
    "plt.errorbar(xVec,yVec,yerr=dyVec, linestyle=\"None\")\n",
    "\n",
    "# Plot quadratic function with coefficients\n",
    "y = 3*(xVec**2) + 4*xVec + 10\n",
    "print(\"y is\", y)\n",
    "# y = a1 + a2*xVec + a3*(xVec**2.)\n",
    "plt.plot(y)\n",
    "\n",
    "# Use python function to test code\n",
    "# (a,m,b) = np.polyfit(xVec, yVec, 2)\n",
    "# y = np.polyval([a,m,b], xVec)\n",
    "# plt.plot(xVec, y)\n",
    "plt.show()"
   ]
  },
  {
   "cell_type": "code",
   "execution_count": null,
   "metadata": {
    "collapsed": true
   },
   "outputs": [],
   "source": []
  }
 ],
 "metadata": {
  "anaconda-cloud": {},
  "kernelspec": {
   "display_name": "Python [astroconda]",
   "language": "python",
   "name": "Python [astroconda]"
  },
  "language_info": {
   "codemirror_mode": {
    "name": "ipython",
    "version": 2
   },
   "file_extension": ".py",
   "mimetype": "text/x-python",
   "name": "python",
   "nbconvert_exporter": "python",
   "pygments_lexer": "ipython2",
   "version": "2.7.12"
  }
 },
 "nbformat": 4,
 "nbformat_minor": 0
}
